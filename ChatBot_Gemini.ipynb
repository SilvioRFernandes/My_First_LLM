{
  "nbformat": 4,
  "nbformat_minor": 0,
  "metadata": {
    "colab": {
      "provenance": [],
      "authorship_tag": "ABX9TyM9gIL80Q3dT86zphhsJTkk",
      "include_colab_link": true
    },
    "kernelspec": {
      "name": "python3",
      "display_name": "Python 3"
    },
    "language_info": {
      "name": "python"
    }
  },
  "cells": [
    {
      "cell_type": "markdown",
      "metadata": {
        "id": "view-in-github",
        "colab_type": "text"
      },
      "source": [
        "<a href=\"https://colab.research.google.com/github/SilvioRFernandes/My_First_LLM/blob/main/ChatBot_Gemini.ipynb\" target=\"_parent\"><img src=\"https://colab.research.google.com/assets/colab-badge.svg\" alt=\"Open In Colab\"/></a>"
      ]
    },
    {
      "cell_type": "markdown",
      "source": [
        "Instalando SDK para API do Gemini"
      ],
      "metadata": {
        "id": "Ty_f3T05crTx"
      }
    },
    {
      "cell_type": "code",
      "execution_count": 1,
      "metadata": {
        "id": "uZ39eGfccpM3"
      },
      "outputs": [],
      "source": [
        "!pip install -q -U google-generativeai"
      ]
    },
    {
      "cell_type": "markdown",
      "source": [
        "Setando a API Key"
      ],
      "metadata": {
        "id": "ASngxqdQeJSR"
      }
    },
    {
      "cell_type": "code",
      "source": [
        "# Import the Python SDK\n",
        "import google.generativeai as genai\n",
        "# Used to securely store your API key\n",
        "from google.colab import userdata\n",
        "\n",
        "GOOGLE_API_KEY=userdata.get('GOOGLE_API_KEY')\n",
        "genai.configure(api_key=GOOGLE_API_KEY)"
      ],
      "metadata": {
        "id": "uZoUi6zqeEba"
      },
      "execution_count": 2,
      "outputs": []
    },
    {
      "cell_type": "markdown",
      "source": [
        "Listando os modelos disponíveis"
      ],
      "metadata": {
        "id": "DEvRb9c3f3sU"
      }
    },
    {
      "cell_type": "code",
      "source": [
        "for m in genai.list_models():\n",
        "  if 'generateContent' in m.supported_generation_methods:\n",
        "    print(m.name)"
      ],
      "metadata": {
        "colab": {
          "base_uri": "https://localhost:8080/",
          "height": 139
        },
        "id": "5DdiPM5Of2oZ",
        "outputId": "b596bfba-9118-46f9-f10a-4a9118ce5a9b"
      },
      "execution_count": 5,
      "outputs": [
        {
          "output_type": "stream",
          "name": "stdout",
          "text": [
            "models/gemini-1.0-pro\n",
            "models/gemini-1.0-pro-001\n",
            "models/gemini-1.0-pro-latest\n",
            "models/gemini-1.0-pro-vision-latest\n",
            "models/gemini-1.5-pro-latest\n",
            "models/gemini-pro\n",
            "models/gemini-pro-vision\n"
          ]
        }
      ]
    },
    {
      "cell_type": "markdown",
      "source": [
        "Configurando o modelo"
      ],
      "metadata": {
        "id": "egm4LVkxgOSk"
      }
    },
    {
      "cell_type": "code",
      "source": [
        "version_model = 'gemini-pro'\n",
        "\n",
        "gen_config = {\n",
        "    'candidate_count': 1,\n",
        "    'temperature': 0.5\n",
        "}"
      ],
      "metadata": {
        "id": "gQwn9HeRgRlC"
      },
      "execution_count": 6,
      "outputs": []
    },
    {
      "cell_type": "markdown",
      "source": [
        "Inicializando o modelo"
      ],
      "metadata": {
        "id": "UpLHplZTee0Z"
      }
    },
    {
      "cell_type": "code",
      "source": [
        "model = genai.GenerativeModel(model_name=version_model, generation_config= gen_config)"
      ],
      "metadata": {
        "id": "oPNeLs-BeYmK"
      },
      "execution_count": 7,
      "outputs": []
    },
    {
      "cell_type": "markdown",
      "source": [
        "Gerando texto"
      ],
      "metadata": {
        "id": "zYlCrdb0ejGx"
      }
    },
    {
      "cell_type": "code",
      "source": [
        "response = model.generate_content(\"Conte uma história infantil engraçada\")\n",
        "print(response.text)"
      ],
      "metadata": {
        "colab": {
          "base_uri": "https://localhost:8080/",
          "height": 312
        },
        "id": "Pkggg1rvehUc",
        "outputId": "5bb25c8a-29c0-4870-fc3f-1f19aac91e11"
      },
      "execution_count": 8,
      "outputs": [
        {
          "output_type": "stream",
          "name": "stdout",
          "text": [
            "Era uma vez, um cachorrinho chamado Fifi que adorava brincar. Um dia, enquanto brincava no quintal, Fifi viu um esquilo correndo por uma árvore. Fifi ficou tão animada que começou a latir e a pular, tentando pegar o esquilo.\n",
            "\n",
            "Mas Fifi era muito pequeno e o esquilo era muito rápido. O esquilo correu e correu, até que Fifi ficou cansado e caiu no chão, ofegante.\n",
            "\n",
            "O esquilo, vendo que Fifi não era uma ameaça, parou e olhou para ele. Fifi olhou para cima e viu o esquilo com uma noz na boca.\n",
            "\n",
            "Fifi ficou com tanta fome que começou a lamber os lábios. Ele se aproximou do esquilo e disse: \"Por favor, senhor esquilo, você poderia me dar um pouco da sua noz?\"\n",
            "\n",
            "O esquilo ficou surpreso. Ele nunca tinha visto um cachorro falar antes. Ele olhou para Fifi por um momento e depois disse: \"Claro, cachorrinho. Aqui está um pedaço da minha noz.\"\n",
            "\n",
            "O esquilo quebrou a noz e deu um pedaço para Fifi. Fifi comeu a noz e ficou tão feliz que começou a abanar o rabo.\n",
            "\n",
            "\"Obrigado, senhor esquilo\", disse Fifi. \"Você é muito gentil.\"\n",
            "\n",
            "O esquilo sorriu e disse: \"De nada, cachorrinho. Agora vá brincar. Eu preciso encontrar mais nozes.\"\n",
            "\n",
            "Fifi se levantou e começou a brincar novamente. Ele estava tão feliz por ter feito um novo amigo, o esquilo gentil. E a partir daquele dia, Fifi e o esquilo se tornaram os melhores amigos, brincando e compartilhando nozes juntos.\n"
          ]
        }
      ]
    },
    {
      "cell_type": "markdown",
      "source": [
        "Criando Chat"
      ],
      "metadata": {
        "id": "LmVCL2xui-Do"
      }
    },
    {
      "cell_type": "code",
      "source": [
        "chat = model.start_chat(history=[])"
      ],
      "metadata": {
        "id": "kMKgqTqueqC7"
      },
      "execution_count": 9,
      "outputs": []
    },
    {
      "cell_type": "code",
      "source": [
        "prompt = input(\"Esperando Prompt: \")\n",
        "\n",
        "while str.upper(prompt) != 'FIM':\n",
        "  response = chat.send_message(prompt)\n",
        "  print(\"REPOSTA DO MODELO: \\n\", response.text, \"\\n\")\n",
        "  prompt = input(\"Esperando Prompt: \")"
      ],
      "metadata": {
        "colab": {
          "base_uri": "https://localhost:8080/",
          "height": 332
        },
        "id": "FDnmkELsjIqa",
        "outputId": "57d4906b-ffbb-4ee0-d85a-e313978bc983"
      },
      "execution_count": 11,
      "outputs": [
        {
          "name": "stdout",
          "output_type": "stream",
          "text": [
            "Esperando Prompt: Qual a capital do Brasil?\n",
            "REPOSTA DO MODELO: \n",
            " Brasília \n",
            "\n",
            "Esperando Prompt: Não a Buenos Aires?\n",
            "REPOSTA DO MODELO: \n",
            " Não, Buenos Aires é a capital da Argentina. Brasília é a capital do Brasil. \n",
            "\n",
            "Esperando Prompt: Você tem certeza?\n",
            "REPOSTA DO MODELO: \n",
            " Sim, tenho certeza. Brasília é a capital do Brasil desde 1960. Buenos Aires é a capital da Argentina. \n",
            "\n",
            "Esperando Prompt: Mas me disseram que era Buenos Aires. Acho que você não está atualizada suficiente, não é?\n",
            "REPOSTA DO MODELO: \n",
            " Lamento qualquer confusão, mas estou atualizado com as informações mais recentes e tenho certeza de que Brasília é a capital do Brasil. Você pode verificar essa informação em várias fontes confiáveis, como o site do governo brasileiro ou a Wikipedia. \n",
            "\n",
            "Esperando Prompt: fim\n"
          ]
        }
      ]
    },
    {
      "cell_type": "code",
      "source": [],
      "metadata": {
        "id": "zenEIKJBji8t"
      },
      "execution_count": null,
      "outputs": []
    }
  ]
}